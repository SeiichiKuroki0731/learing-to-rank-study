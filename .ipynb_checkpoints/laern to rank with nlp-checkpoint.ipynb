{
 "cells": [
  {
   "cell_type": "code",
   "execution_count": 1,
   "metadata": {},
   "outputs": [
    {
     "name": "stdout",
     "output_type": "stream",
     "text": [
      "['Snoopy', 'is', 'a', 'beagle']\n"
     ]
    }
   ],
   "source": [
    "import matplotlib.pyplot as plt\n",
    "import numpy as np\n",
    "import tensorflow as tf\n",
    "\n",
    "sentence = \"Snoopy is a beagle\"\n",
    "\n",
    "tokens = sentence.split(\" \")\n",
    "\n",
    "print(tokens)"
   ]
  },
  {
   "cell_type": "code",
   "execution_count": 2,
   "metadata": {},
   "outputs": [
    {
     "name": "stdout",
     "output_type": "stream",
     "text": [
      "{0: 'Snoopy', 1: 'is', 2: 'a', 3: 'beagle'}\n"
     ]
    }
   ],
   "source": [
    "index_word = {i: x for i, x in enumerate(tokens)}\n",
    "\n",
    "print(index_word)"
   ]
  },
  {
   "cell_type": "code",
   "execution_count": 3,
   "metadata": {},
   "outputs": [
    {
     "data": {
      "text/plain": [
       "4"
      ]
     },
     "execution_count": 3,
     "metadata": {},
     "output_type": "execute_result"
    }
   ],
   "source": [
    "len(index_word)"
   ]
  },
  {
   "cell_type": "code",
   "execution_count": 4,
   "metadata": {},
   "outputs": [
    {
     "name": "stdout",
     "output_type": "stream",
     "text": [
      "Snoopy: [1. 0. 0. 0.]\n",
      "is    : [0. 1. 0. 0.]\n",
      "a     : [0. 0. 1. 0.]\n",
      "beagle: [0. 0. 0. 1.]\n"
     ]
    }
   ],
   "source": [
    "num_classes = len(index_word)\n",
    "\n",
    "index_one_hot = {i: tf.one_hot(x, depth=num_classes) \\\n",
    "                 for i, x in enumerate(index_word.keys())}\n",
    "\n",
    "for k, v in index_one_hot.items():\n",
    "    word = index_word[k]\n",
    "    one_hot_vector = v.numpy()\n",
    "    print(f\"{word:<6}: {one_hot_vector}\")"
   ]
  },
  {
   "cell_type": "code",
   "execution_count": 5,
   "metadata": {},
   "outputs": [
    {
     "name": "stdout",
     "output_type": "stream",
     "text": [
      "[[-0.02253438  0.01806876]\n",
      " [-0.03649556 -0.04563948]\n",
      " [ 0.00010389  0.00046632]\n",
      " [ 0.03638164 -0.02841816]]\n"
     ]
    }
   ],
   "source": [
    "embeddings = tf.random.uniform((4, 2), minval=-0.05, maxval=0.05).numpy()\n",
    "\n",
    "print(embeddings)"
   ]
  },
  {
   "cell_type": "code",
   "execution_count": null,
   "metadata": {},
   "outputs": [],
   "source": []
  }
 ],
 "metadata": {
  "kernelspec": {
   "display_name": "Python 3",
   "language": "python",
   "name": "python3"
  },
  "language_info": {
   "codemirror_mode": {
    "name": "ipython",
    "version": 3
   },
   "file_extension": ".py",
   "mimetype": "text/x-python",
   "name": "python",
   "nbconvert_exporter": "python",
   "pygments_lexer": "ipython3",
   "version": "3.7.4"
  }
 },
 "nbformat": 4,
 "nbformat_minor": 2
}
